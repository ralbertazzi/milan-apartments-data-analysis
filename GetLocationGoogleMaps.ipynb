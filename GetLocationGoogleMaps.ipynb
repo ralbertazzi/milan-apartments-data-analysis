{
 "cells": [
  {
   "cell_type": "code",
   "execution_count": 1,
   "metadata": {},
   "outputs": [],
   "source": [
    "import pandas as pd\n",
    "import requests\n",
    "\n",
    "data = pd.read_csv('data/affitti_milano.csv', index_col=0)"
   ]
  },
  {
   "cell_type": "code",
   "execution_count": 2,
   "metadata": {},
   "outputs": [],
   "source": [
    "API_KEY = 'MY_API_KEY'"
   ]
  },
  {
   "cell_type": "code",
   "execution_count": null,
   "metadata": {
    "scrolled": false
   },
   "outputs": [],
   "source": [
    "def get_location(address):\n",
    "    geocode_url = \"https://maps.googleapis.com/maps/api/geocode/json?address={}&key={}\".format(address, API_KEY)\n",
    "    location = requests.get(geocode_url).json()['results'][0]['geometry']['location']\n",
    "    return location['lat'], location['lng']\n",
    "\n",
    "lat = []\n",
    "lng = []\n",
    "\n",
    "for idx, address in enumerate(data['address']):\n",
    "    if idx % 50 == 0:\n",
    "        print(idx)\n",
    "    try:\n",
    "        lt, ln = get_location(address)\n",
    "        lat.append(lt)\n",
    "        lng.append(ln)\n",
    "    except Exception as e:\n",
    "        print(idx, e)\n",
    "        lat.append(float('NaN'))\n",
    "        lng.append(float('NaN'))"
   ]
  },
  {
   "cell_type": "code",
   "execution_count": 14,
   "metadata": {},
   "outputs": [
    {
     "data": {
      "text/html": [
       "<div>\n",
       "<style scoped>\n",
       "    .dataframe tbody tr th:only-of-type {\n",
       "        vertical-align: middle;\n",
       "    }\n",
       "\n",
       "    .dataframe tbody tr th {\n",
       "        vertical-align: top;\n",
       "    }\n",
       "\n",
       "    .dataframe thead th {\n",
       "        text-align: right;\n",
       "    }\n",
       "</style>\n",
       "<table border=\"1\" class=\"dataframe\">\n",
       "  <thead>\n",
       "    <tr style=\"text-align: right;\">\n",
       "      <th></th>\n",
       "      <th>Unnamed: 0</th>\n",
       "      <th>href</th>\n",
       "      <th>address</th>\n",
       "      <th>price</th>\n",
       "      <th>space</th>\n",
       "      <th>lng</th>\n",
       "      <th>lat</th>\n",
       "    </tr>\n",
       "  </thead>\n",
       "  <tbody>\n",
       "    <tr>\n",
       "      <th>0</th>\n",
       "      <td>0</td>\n",
       "      <td>https://www.immobiliare.it/68775213-Affitto-Mo...</td>\n",
       "      <td>via Giovanni Pierluigi da Palestrina 18, Centr...</td>\n",
       "      <td>500.0</td>\n",
       "      <td>25.0</td>\n",
       "      <td>9.212047</td>\n",
       "      <td>45.486306</td>\n",
       "    </tr>\n",
       "    <tr>\n",
       "      <th>1</th>\n",
       "      <td>1</td>\n",
       "      <td>https://www.immobiliare.it/68772565-Affitto-Bi...</td>\n",
       "      <td>piazza Cinque Giornate, 4, Guastalla, Milano</td>\n",
       "      <td>1080.0</td>\n",
       "      <td>70.0</td>\n",
       "      <td>9.206564</td>\n",
       "      <td>45.461894</td>\n",
       "    </tr>\n",
       "    <tr>\n",
       "      <th>2</th>\n",
       "      <td>2</td>\n",
       "      <td>https://www.immobiliare.it/68774701-Affitto-Bi...</td>\n",
       "      <td>via Tertulliano, 58, Lodi - Brenta, Milano</td>\n",
       "      <td>650.0</td>\n",
       "      <td>50.0</td>\n",
       "      <td>9.217674</td>\n",
       "      <td>45.442157</td>\n",
       "    </tr>\n",
       "    <tr>\n",
       "      <th>3</th>\n",
       "      <td>3</td>\n",
       "      <td>https://www.immobiliare.it/68772291-Affitto-Bi...</td>\n",
       "      <td>piazza V Giornate, Guastalla, Milano</td>\n",
       "      <td>1542.0</td>\n",
       "      <td>65.0</td>\n",
       "      <td>9.206740</td>\n",
       "      <td>45.462255</td>\n",
       "    </tr>\n",
       "    <tr>\n",
       "      <th>4</th>\n",
       "      <td>4</td>\n",
       "      <td>https://www.immobiliare.it/68772287-Affitto-Tr...</td>\n",
       "      <td>piazza V Giornate, Guastalla, Milano</td>\n",
       "      <td>2760.0</td>\n",
       "      <td>140.0</td>\n",
       "      <td>9.206740</td>\n",
       "      <td>45.462255</td>\n",
       "    </tr>\n",
       "  </tbody>\n",
       "</table>\n",
       "</div>"
      ],
      "text/plain": [
       "   Unnamed: 0                                               href  \\\n",
       "0           0  https://www.immobiliare.it/68775213-Affitto-Mo...   \n",
       "1           1  https://www.immobiliare.it/68772565-Affitto-Bi...   \n",
       "2           2  https://www.immobiliare.it/68774701-Affitto-Bi...   \n",
       "3           3  https://www.immobiliare.it/68772291-Affitto-Bi...   \n",
       "4           4  https://www.immobiliare.it/68772287-Affitto-Tr...   \n",
       "\n",
       "                                             address   price  space       lng  \\\n",
       "0  via Giovanni Pierluigi da Palestrina 18, Centr...   500.0   25.0  9.212047   \n",
       "1       piazza Cinque Giornate, 4, Guastalla, Milano  1080.0   70.0  9.206564   \n",
       "2         via Tertulliano, 58, Lodi - Brenta, Milano   650.0   50.0  9.217674   \n",
       "3               piazza V Giornate, Guastalla, Milano  1542.0   65.0  9.206740   \n",
       "4               piazza V Giornate, Guastalla, Milano  2760.0  140.0  9.206740   \n",
       "\n",
       "         lat  \n",
       "0  45.486306  \n",
       "1  45.461894  \n",
       "2  45.442157  \n",
       "3  45.462255  \n",
       "4  45.462255  "
      ]
     },
     "execution_count": 14,
     "metadata": {},
     "output_type": "execute_result"
    }
   ],
   "source": [
    "data['lng'] = lng\n",
    "data['lat'] = lat"
   ]
  },
  {
   "cell_type": "code",
   "execution_count": 18,
   "metadata": {},
   "outputs": [],
   "source": [
    "data.to_csv('data/affitti-milano-latlng.csv')"
   ]
  }
 ],
 "metadata": {
  "kernelspec": {
   "display_name": "Python 3",
   "language": "python",
   "name": "python3"
  },
  "language_info": {
   "codemirror_mode": {
    "name": "ipython",
    "version": 3
   },
   "file_extension": ".py",
   "mimetype": "text/x-python",
   "name": "python",
   "nbconvert_exporter": "python",
   "pygments_lexer": "ipython3",
   "version": "3.5.2"
  }
 },
 "nbformat": 4,
 "nbformat_minor": 2
}
